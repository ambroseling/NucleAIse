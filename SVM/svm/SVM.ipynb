{
  "cells": [
    {
      "cell_type": "code",
      "execution_count": 1,
      "metadata": {
        "id": "T2KjYzBUAI6k"
      },
      "outputs": [],
      "source": [
        "import pandas as pd\n",
        "from sklearn.feature_extraction import DictVectorizer\n",
        "from sklearn.metrics import accuracy_score, classification_report, hamming_loss\n",
        "from sklearn.model_selection import train_test_split\n",
        "from sklearn.multiclass import OneVsRestClassifier\n",
        "from sklearn.preprocessing import MultiLabelBinarizer, StandardScaler\n",
        "from sklearn.svm import SVC\n",
        "from sklearn.metrics import confusion_matrix\n",
        "from google.colab import files\n",
        "import matplotlib.pyplot as plt\n",
        "import seaborn as sns\n",
        "from sklearn.metrics import precision_score, recall_score\n",
        "import numpy as np\n",
        "from sklearn.metrics import multilabel_confusion_matrix\n",
        "import os"
      ]
    },
    {
      "cell_type": "code",
      "execution_count": 2,
      "metadata": {
        "colab": {
          "base_uri": "https://localhost:8080/",
          "height": 73
        },
        "id": "6oLjGv5y28ZW",
        "outputId": "f2161a21-280a-4488-c326-a7a2bb07c787"
      },
      "outputs": [
        {
          "data": {
            "text/html": [
              "\n",
              "     <input type=\"file\" id=\"files-b84c7848-6e21-438c-bcd3-d2d5cb5fffd0\" name=\"files[]\" multiple disabled\n",
              "        style=\"border:none\" />\n",
              "     <output id=\"result-b84c7848-6e21-438c-bcd3-d2d5cb5fffd0\">\n",
              "      Upload widget is only available when the cell has been executed in the\n",
              "      current browser session. Please rerun this cell to enable.\n",
              "      </output>\n",
              "      <script>// Copyright 2017 Google LLC\n",
              "//\n",
              "// Licensed under the Apache License, Version 2.0 (the \"License\");\n",
              "// you may not use this file except in compliance with the License.\n",
              "// You may obtain a copy of the License at\n",
              "//\n",
              "//      http://www.apache.org/licenses/LICENSE-2.0\n",
              "//\n",
              "// Unless required by applicable law or agreed to in writing, software\n",
              "// distributed under the License is distributed on an \"AS IS\" BASIS,\n",
              "// WITHOUT WARRANTIES OR CONDITIONS OF ANY KIND, either express or implied.\n",
              "// See the License for the specific language governing permissions and\n",
              "// limitations under the License.\n",
              "\n",
              "/**\n",
              " * @fileoverview Helpers for google.colab Python module.\n",
              " */\n",
              "(function(scope) {\n",
              "function span(text, styleAttributes = {}) {\n",
              "  const element = document.createElement('span');\n",
              "  element.textContent = text;\n",
              "  for (const key of Object.keys(styleAttributes)) {\n",
              "    element.style[key] = styleAttributes[key];\n",
              "  }\n",
              "  return element;\n",
              "}\n",
              "\n",
              "// Max number of bytes which will be uploaded at a time.\n",
              "const MAX_PAYLOAD_SIZE = 100 * 1024;\n",
              "\n",
              "function _uploadFiles(inputId, outputId) {\n",
              "  const steps = uploadFilesStep(inputId, outputId);\n",
              "  const outputElement = document.getElementById(outputId);\n",
              "  // Cache steps on the outputElement to make it available for the next call\n",
              "  // to uploadFilesContinue from Python.\n",
              "  outputElement.steps = steps;\n",
              "\n",
              "  return _uploadFilesContinue(outputId);\n",
              "}\n",
              "\n",
              "// This is roughly an async generator (not supported in the browser yet),\n",
              "// where there are multiple asynchronous steps and the Python side is going\n",
              "// to poll for completion of each step.\n",
              "// This uses a Promise to block the python side on completion of each step,\n",
              "// then passes the result of the previous step as the input to the next step.\n",
              "function _uploadFilesContinue(outputId) {\n",
              "  const outputElement = document.getElementById(outputId);\n",
              "  const steps = outputElement.steps;\n",
              "\n",
              "  const next = steps.next(outputElement.lastPromiseValue);\n",
              "  return Promise.resolve(next.value.promise).then((value) => {\n",
              "    // Cache the last promise value to make it available to the next\n",
              "    // step of the generator.\n",
              "    outputElement.lastPromiseValue = value;\n",
              "    return next.value.response;\n",
              "  });\n",
              "}\n",
              "\n",
              "/**\n",
              " * Generator function which is called between each async step of the upload\n",
              " * process.\n",
              " * @param {string} inputId Element ID of the input file picker element.\n",
              " * @param {string} outputId Element ID of the output display.\n",
              " * @return {!Iterable<!Object>} Iterable of next steps.\n",
              " */\n",
              "function* uploadFilesStep(inputId, outputId) {\n",
              "  const inputElement = document.getElementById(inputId);\n",
              "  inputElement.disabled = false;\n",
              "\n",
              "  const outputElement = document.getElementById(outputId);\n",
              "  outputElement.innerHTML = '';\n",
              "\n",
              "  const pickedPromise = new Promise((resolve) => {\n",
              "    inputElement.addEventListener('change', (e) => {\n",
              "      resolve(e.target.files);\n",
              "    });\n",
              "  });\n",
              "\n",
              "  const cancel = document.createElement('button');\n",
              "  inputElement.parentElement.appendChild(cancel);\n",
              "  cancel.textContent = 'Cancel upload';\n",
              "  const cancelPromise = new Promise((resolve) => {\n",
              "    cancel.onclick = () => {\n",
              "      resolve(null);\n",
              "    };\n",
              "  });\n",
              "\n",
              "  // Wait for the user to pick the files.\n",
              "  const files = yield {\n",
              "    promise: Promise.race([pickedPromise, cancelPromise]),\n",
              "    response: {\n",
              "      action: 'starting',\n",
              "    }\n",
              "  };\n",
              "\n",
              "  cancel.remove();\n",
              "\n",
              "  // Disable the input element since further picks are not allowed.\n",
              "  inputElement.disabled = true;\n",
              "\n",
              "  if (!files) {\n",
              "    return {\n",
              "      response: {\n",
              "        action: 'complete',\n",
              "      }\n",
              "    };\n",
              "  }\n",
              "\n",
              "  for (const file of files) {\n",
              "    const li = document.createElement('li');\n",
              "    li.append(span(file.name, {fontWeight: 'bold'}));\n",
              "    li.append(span(\n",
              "        `(${file.type || 'n/a'}) - ${file.size} bytes, ` +\n",
              "        `last modified: ${\n",
              "            file.lastModifiedDate ? file.lastModifiedDate.toLocaleDateString() :\n",
              "                                    'n/a'} - `));\n",
              "    const percent = span('0% done');\n",
              "    li.appendChild(percent);\n",
              "\n",
              "    outputElement.appendChild(li);\n",
              "\n",
              "    const fileDataPromise = new Promise((resolve) => {\n",
              "      const reader = new FileReader();\n",
              "      reader.onload = (e) => {\n",
              "        resolve(e.target.result);\n",
              "      };\n",
              "      reader.readAsArrayBuffer(file);\n",
              "    });\n",
              "    // Wait for the data to be ready.\n",
              "    let fileData = yield {\n",
              "      promise: fileDataPromise,\n",
              "      response: {\n",
              "        action: 'continue',\n",
              "      }\n",
              "    };\n",
              "\n",
              "    // Use a chunked sending to avoid message size limits. See b/62115660.\n",
              "    let position = 0;\n",
              "    do {\n",
              "      const length = Math.min(fileData.byteLength - position, MAX_PAYLOAD_SIZE);\n",
              "      const chunk = new Uint8Array(fileData, position, length);\n",
              "      position += length;\n",
              "\n",
              "      const base64 = btoa(String.fromCharCode.apply(null, chunk));\n",
              "      yield {\n",
              "        response: {\n",
              "          action: 'append',\n",
              "          file: file.name,\n",
              "          data: base64,\n",
              "        },\n",
              "      };\n",
              "\n",
              "      let percentDone = fileData.byteLength === 0 ?\n",
              "          100 :\n",
              "          Math.round((position / fileData.byteLength) * 100);\n",
              "      percent.textContent = `${percentDone}% done`;\n",
              "\n",
              "    } while (position < fileData.byteLength);\n",
              "  }\n",
              "\n",
              "  // All done.\n",
              "  yield {\n",
              "    response: {\n",
              "      action: 'complete',\n",
              "    }\n",
              "  };\n",
              "}\n",
              "\n",
              "scope.google = scope.google || {};\n",
              "scope.google.colab = scope.google.colab || {};\n",
              "scope.google.colab._files = {\n",
              "  _uploadFiles,\n",
              "  _uploadFilesContinue,\n",
              "};\n",
              "})(self);\n",
              "</script> "
            ],
            "text/plain": [
              "<IPython.core.display.HTML object>"
            ]
          },
          "metadata": {},
          "output_type": "display_data"
        },
        {
          "name": "stdout",
          "output_type": "stream",
          "text": [
            "Saving all_data.csv to all_data.csv\n"
          ]
        }
      ],
      "source": [
        "f = files.upload()"
      ]
    },
    {
      "cell_type": "code",
      "execution_count": 3,
      "metadata": {
        "colab": {
          "base_uri": "https://localhost:8080/"
        },
        "id": "6MirVstt3AOQ",
        "outputId": "f036813f-2572-482c-b820-e227758efa05"
      },
      "outputs": [
        {
          "name": "stdout",
          "output_type": "stream",
          "text": [
            "734\n"
          ]
        }
      ],
      "source": [
        "# data read and extract feature matrix and target variable\n",
        "data = pd.read_csv(\"all_data.csv\")\n",
        "\n",
        "x = data[\"sequence\"]\n",
        "y = data[\"goa\"].apply(\n",
        "    lambda k: [item for item in k.strip(\"[]\").replace(\"'\", \"\").split(', ')\n",
        "               if item != '']).values\n",
        "seq_list = x.to_list()\n",
        "\n",
        "# Encoding sequences\n",
        "def compute_kmer_frequencies(sequence, k) -> dict:\n",
        "    kmer_counts = {}\n",
        "    for i in range(len(sequence) - k + 1):\n",
        "        kmer = sequence[i:i + k]\n",
        "        kmer_counts[kmer] = kmer_counts.get(kmer, 0) + 1\n",
        "\n",
        "    total_kmers = sum(kmer_counts.values())\n",
        "    kmer_frequencies = {kmer: count / total_kmers for kmer, count in\n",
        "                        kmer_counts.items()}\n",
        "    return kmer_frequencies\n",
        "\n",
        "kmer_freq = [compute_kmer_frequencies(seq, 1) for seq in seq_list]\n",
        "\n",
        "# Transforming the k-mer Frequencies into a Feature Matrix:\n",
        "vector = DictVectorizer(sparse=False)\n",
        "X_vectorized = vector.fit_transform(kmer_freq)\n",
        "\n",
        "\n",
        "#---------------#\n",
        "# label info\n",
        "label_list = []  # all labels\n",
        "label_count = 0  # number of labels\n",
        "label_dict = {}  # no of instances per label\n",
        "for lst in y:\n",
        "    for label in lst:\n",
        "        if label not in label_list:\n",
        "            label_list.append(label)\n",
        "            label_dict[label] = 0\n",
        "            label_count += 1\n",
        "for lst in y:\n",
        "    for label in lst:\n",
        "        label_dict[label] += 1\n",
        "\n",
        "sorted_labels_by_instance_numbers = sorted(label_dict.items(), key=lambda k: k[1])\n",
        "# print(sorted_labels_by_instance_numbers)\n",
        "\n",
        "label_list_with_less_than_3_instances =[]\n",
        "for key in label_dict:\n",
        "    if label_dict[key] < 3:\n",
        "        label_list_with_less_than_3_instances.append(key)\n",
        "\n",
        "print(len(label_list_with_less_than_3_instances)) # 7777 - sp.db"
      ]
    },
    {
      "cell_type": "code",
      "execution_count": 4,
      "metadata": {
        "id": "tw7tEtnS3E9R"
      },
      "outputs": [],
      "source": [
        "# Splitting the Dataset\n",
        "X_t, X_test, y_t, y_test = train_test_split(X_vectorized, y,\n",
        "                                                    test_size=0.2,\n",
        "                                                    random_state=40)\n",
        "\n",
        "\n",
        "X_train, X_validation, y_train, y_validation = train_test_split(X_t,y_t,test_size = 0.2, random_state = 40)\n",
        "\n",
        "\n",
        "# Transforming target variable to a multilabel format\n",
        "mlb = MultiLabelBinarizer(classes=label_list)\n",
        "y_train = mlb.fit_transform(y_train)\n",
        "y_valid = mlb.transform(y_validation)\n",
        "y_test = mlb.transform(y_test)\n",
        "\n",
        "# Standardization of feature values\n",
        "scaler = StandardScaler()\n",
        "X_train = scaler.fit_transform(X_train)\n",
        "X_valid = scaler.fit_transform(X_validation)\n",
        "X_test = scaler.transform(X_test)"
      ]
    },
    {
      "cell_type": "code",
      "execution_count": 5,
      "metadata": {
        "colab": {
          "base_uri": "https://localhost:8080/"
        },
        "id": "HX_i0o4170Vq",
        "outputId": "e8001957-d2a9-4d9a-bd12-07f0056bf48e"
      },
      "outputs": [
        {
          "name": "stdout",
          "output_type": "stream",
          "text": [
            "77\n",
            "Labels present in test but missing in train: {'GO:1905162', 'GO:0005164', 'GO:0009853', 'GO:0030162', 'GO:0003245', 'GO:0016984', 'GO:1903577', 'GO:0045041', 'GO:0071528', 'GO:0051482', 'GO:0120056', 'GO:0032543', 'GO:0010818', 'GO:0140494', 'GO:0002191', 'GO:0006458', 'GO:0031470', 'GO:0006446', 'GO:0048291', 'GO:1901799', 'GO:0042274', 'GO:0046625', 'GO:0005762', 'GO:0031870', 'GO:0032040', 'GO:0034185', 'GO:0004993', 'GO:0030135', 'GO:0010311', 'GO:0099589', 'GO:0051650', 'GO:0062073', 'GO:0045806', 'GO:0051702', 'GO:2001214', 'GO:0008494', 'GO:0010820', 'GO:0034186', 'GO:0046548', 'GO:0031262', 'GO:0001955', 'GO:0033602', 'GO:1990601', 'GO:0005839', 'GO:0002842', 'GO:0070254', 'GO:0034499', 'GO:0061028', 'GO:0061384', 'GO:0072429', 'GO:0004866', 'GO:0038036', 'GO:0045654', 'GO:0008035', 'GO:0032009', 'GO:1903979', 'GO:0000242', 'GO:0030594', 'GO:1903461', 'GO:0061351', 'GO:0019253', 'GO:0097524', 'GO:0042989', 'GO:0140299', 'GO:0030500', 'GO:2000073', 'GO:1903469', 'GO:1990927', 'GO:0032486', 'GO:0045124', 'GO:0043027', 'GO:1900424', 'GO:0046929', 'GO:0034514', 'GO:0034618', 'GO:0002229', 'GO:0005049'}\n"
          ]
        }
      ],
      "source": [
        "# labels not present in the training data set\n",
        "y_train_labels = mlb.inverse_transform(y_train)\n",
        "y_valid_labels = mlb.inverse_transform(y_valid)\n",
        "y_test_labels = mlb.inverse_transform(y_test)\n",
        "\n",
        "# Convert to sets for easier comparison\n",
        "train_label_set = {label for labels in y_train_labels for label in labels}\n",
        "valid_label_set = {label for labels in y_valid_labels for label in labels}\n",
        "test_label_set = {label for labels in y_test_labels for label in labels}\n",
        "\n",
        "# Find labels present in test set but not in training set\n",
        "missing_labels = test_label_set - train_label_set\n",
        "missing_labels_valid = valid_label_set - train_label_set\n",
        "\n",
        "print(len(missing_labels))\n",
        "print(\"Labels present in test but missing in train:\", missing_labels)\n",
        "\n",
        "# print(len(valid_label_set))"
      ]
    },
    {
      "cell_type": "code",
      "execution_count": null,
      "metadata": {
        "id": "SCm8KPwnECQT"
      },
      "outputs": [],
      "source": [
        "\n"
      ]
    },
    {
      "cell_type": "code",
      "execution_count": null,
      "metadata": {
        "id": "sQETJkAKUeEt"
      },
      "outputs": [],
      "source": [
        "# validation and finetuning\n",
        "valid_acc = []\n",
        "gamma= [0.1,0.2,0.3,0.4,0.5,0.6,0.7,0.8,0.9]\n",
        "\n",
        "for g in gamma:\n",
        "  svm_classifier = OneVsRestClassifier(SVC(kernel='rbf', gamma=g))\n",
        "  svm_classifier.fit(X_train, y_train)\n",
        "  y_valid_pred = svm_classifier.predict(X_valid)\n",
        "  accuracy = accuracy_score(y_valid_pred, y_valid)\n",
        "  valid_acc.append(accuracy)\n",
        "\n"
      ]
    },
    {
      "cell_type": "code",
      "execution_count": 13,
      "metadata": {
        "colab": {
          "base_uri": "https://localhost:8080/",
          "height": 489
        },
        "id": "OdMkVPMEU_Eh",
        "outputId": "3cc19731-ee2c-457d-a31d-ab90ceef6ff9"
      },
      "outputs": [
        {
          "data": {
            "text/plain": [
              "Text(0, 0.5, 'Accuracy')"
            ]
          },
          "execution_count": 13,
          "metadata": {},
          "output_type": "execute_result"
        },
        {
          "data": {
            "image/png": "[encoded data removed]",
            "text/plain": [
              "<Figure size 640x480 with 1 Axes>"
            ]
          },
          "metadata": {},
          "output_type": "display_data"
        }
      ],
      "source": [
        "plt.title(\"Validatation Accuracy for SVM model\")\n",
        "plt.plot(gamma, valid_acc)\n",
        "plt.xlabel(\"gamma\")\n",
        "plt.ylabel(\"Accuracy\")"
      ]
    },
    {
      "cell_type": "code",
      "execution_count": 12,
      "metadata": {
        "id": "4ux76fTkEHe8"
      },
      "outputs": [],
      "source": [
        "# Making predictions on the test data\n",
        "svm_classifier = OneVsRestClassifier(SVC(kernel='rbf', gamma=0.5))\n",
        "svm_classifier.fit(X_train, y_train)\n",
        "y_pred = svm_classifier.predict(X_test)"
      ]
    },
    {
      "cell_type": "code",
      "execution_count": 20,
      "metadata": {
        "colab": {
          "base_uri": "https://localhost:8080/"
        },
        "id": "_cQAKZsguJ8V",
        "outputId": "5a5d869f-c547-411d-aa69-91b4e463a491"
      },
      "outputs": [
        {
          "name": "stdout",
          "output_type": "stream",
          "text": [
            "0.7129629629629629\n"
          ]
        }
      ],
      "source": [
        "# Accuracy for testing dataset\n",
        "accuracy = accuracy_score(y_pred, y_test)\n",
        "print(accuracy)"
      ]
    },
    {
      "cell_type": "code",
      "execution_count": null,
      "metadata": {
        "id": "EosZ9jiR8A81"
      },
      "outputs": [],
      "source": [
        "svm_classifier1 = OneVsRestClassifier(SVC(kernel='poly', degree=3, coef0=1))\n",
        "svm_classifier1.fit(X_train, y_train)\n",
        "y_pred_1 = svm_classifier1.predict(X_test)"
      ]
    },
    {
      "cell_type": "code",
      "execution_count": 19,
      "metadata": {
        "colab": {
          "base_uri": "https://localhost:8080/"
        },
        "id": "jNG71e-i5mBz",
        "outputId": "2848bbf3-fcfb-4a30-ff97-5052bfbc9aa5"
      },
      "outputs": [
        {
          "name": "stdout",
          "output_type": "stream",
          "text": [
            "Hamming Loss for RBF kernel: 0.0006312277976996628\n",
            "Accuracy for RBF kernel: 0.7129629629629629\n",
            "Hamming Loss for Polynomial kernel: 0.0013072908798405542\n",
            "Accuracy for Polynomial kernel: 0.4246031746031746\n",
            "Macro-averaged Precision for RBF: 0.5995676482595109\n",
            "Macro-averaged Recall-RBF: 0.5524889188684058\n",
            "Micro-averaged Precision-RBF: 0.9988020641356432\n",
            "Micro-averaged Recall-RBF: 0.792092955276235\n"
          ]
        }
      ],
      "source": [
        "# Calculating perfomance evaluation metrics Accuracy:\n",
        "accuracy_rbf = accuracy_score(y_test, y_pred)\n",
        "accuracy_poly = accuracy_score(y_test, y_pred_1)\n",
        "loss_rbf = hamming_loss(y_test, y_pred)\n",
        "loss_poly = hamming_loss(y_test, y_pred_1)\n",
        "\n",
        "macro_precision = precision_score(y_test, y_pred, average='macro',zero_division=0)\n",
        "macro_recall = recall_score(y_test, y_pred, average='macro', zero_division=0)\n",
        "micro_precision = precision_score(y_test, y_pred, average='micro',zero_division=0)\n",
        "micro_recall = recall_score(y_test, y_pred, average='micro',zero_division=0)\n",
        "\n",
        "print(f'Hamming Loss for RBF kernel: {loss_rbf}')  # Hamming Loss: 9.219777437219492e-05\n",
        "print(f'Accuracy for RBF kernel: {accuracy_rbf}')\n",
        "\n",
        "print(f'Hamming Loss for Polynomial kernel: {loss_poly}')  # Hamming Loss: 9.219777437219492e-05\n",
        "print(f'Accuracy for Polynomial kernel: {accuracy_poly}')\n",
        "\n",
        "print(\"Macro-averaged Precision for RBF:\", macro_precision)\n",
        "print(\"Macro-averaged Recall-RBF:\", macro_recall)\n",
        "print(\"Micro-averaged Precision-RBF:\", micro_precision)\n",
        "print(\"Micro-averaged Recall-RBF:\", micro_recall)"
      ]
    },
    {
      "cell_type": "code",
      "execution_count": null,
      "metadata": {
        "id": "ipsOBMapC_Fx"
      },
      "outputs": [],
      "source": [
        "# Accuracy Score for each of the labels\n",
        "\n",
        "def calculate_label_accuracy(y_true, y_pred ):\n",
        "    TP = np.sum((y_true == 1) & (y_pred == 1), axis=0)\n",
        "    TN = np.sum((y_true == 0) & (y_pred == 0), axis=0)\n",
        "    FP = np.sum((y_true == 0) & (y_pred == 1), axis=0)\n",
        "    FN = np.sum((y_true == 1) & (y_pred == 0), axis=0)\n",
        "\n",
        "\n",
        "    # Calculate accuracy for each label\n",
        "    accuracy = (TP + TN) / (TP + FP + FN + TN)\n",
        "    return accuracy\n",
        "\n",
        "label_accuracies = calculate_label_accuracy(y_test, y_pred)\n",
        "\n",
        "for label, accuracy in zip(mlb.classes_, label_accuracies):\n",
        "    print(f\"Accuracy for label {label}: {accuracy}\\n\")\n"
      ]
    },
    {
      "cell_type": "code",
      "execution_count": null,
      "metadata": {
        "id": "LFsthb3A-Dbg"
      },
      "outputs": [],
      "source": [
        "# Precision and recall for each of the labels\n",
        "precisions = precision_score(y_test, y_pred, average=None, zero_division= 0)\n",
        "recalls = recall_score(y_test, y_pred, average=None, zero_division= 0)\n",
        "\n",
        "label_precisions = {label: precision for label, precision in zip(mlb.classes_, precisions)}\n",
        "label_recalls = {label: recall for label, recall in zip(mlb.classes_, recalls)}\n",
        "\n",
        "for label in mlb.classes_:\n",
        "    print(f\"Label: {label}\")\n",
        "    print(f\" Precision: {label_precisions[label]}\")\n",
        "    print(f\" Recall: {label_recalls[label]}\\n\")"
      ]
    },
    {
      "cell_type": "code",
      "execution_count": null,
      "metadata": {
        "id": "X7QwNEPfFovd"
      },
      "outputs": [],
      "source": [
        "# Plot Confusion Matrix for each label\n",
        "confusion_matrices = multilabel_confusion_matrix(y_test, y_pred)\n",
        "for i, cm in enumerate(confusion_matrices):\n",
        "    label_name = mlb.classes_[i]\n",
        "    plt.figure(figsize=(8, 6))\n",
        "    sns.heatmap(cm, annot=True, fmt='d', cmap='Blues')\n",
        "    plt.title(f'Confusion Matrix for {label_name}')\n",
        "    plt.xlabel('Predicted')\n",
        "    plt.ylabel('Actual')\n",
        "    plt.xticks(ticks=[0.5, 1.5], labels=['Negative', 'Positive'])\n",
        "    plt.yticks(ticks=[0.5, 1.5], labels=['Negative', 'Positive'])\n",
        "    plt.show()"
      ]
    },
    {
      "cell_type": "code",
      "execution_count": null,
      "metadata": {
        "id": "g9rlzbWiIz-9"
      },
      "outputs": [],
      "source": [
        "# Report for RBF kernel\n",
        "r_rbf = classification_report(y_test, y_pred, zero_division=0, target_names= label_list)\n",
        "print(r_rbf)"
      ]
    },
    {
      "cell_type": "code",
      "execution_count": null,
      "metadata": {
        "id": "7_qh4i0c9VTs"
      },
      "outputs": [],
      "source": [
        "# Report for Polynomial kernel\n",
        "r_ply = classification_report(y_test, y_pred_1, zero_division=0, target_names= label_list)\n",
        "print(r_ply)"
      ]
    },
    {
      "cell_type": "code",
      "execution_count": null,
      "metadata": {
        "id": "k-FsdgVrQM8-"
      },
      "outputs": [],
      "source": [
        "for idx in range(len(y_pred)):\n",
        "    actual_labels = [mlb.classes_[i] for i, val in enumerate(y_test[idx]) if val == 1]\n",
        "    predicted_labels = [mlb.classes_[i] for i, val in enumerate(y_pred[idx]) if val == 1]\n",
        "\n",
        "    print(f\"Instance {idx+1}:\")\n",
        "    print(f\" Actual Labels: {actual_labels}\")\n",
        "    print(f\" Predicted Labels: {predicted_labels}\\n\")"
      ]
    }
  ],
  "metadata": {
    "accelerator": "GPU",
    "colab": {
      "gpuType": "T4",
      "provenance": []
    },
    "kernelspec": {
      "display_name": "Python 3",
      "name": "python3"
    },
    "language_info": {
      "name": "python"
    }
  },
  "nbformat": 4,
  "nbformat_minor": 0
}
