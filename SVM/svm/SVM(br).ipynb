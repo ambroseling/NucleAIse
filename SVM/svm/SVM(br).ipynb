{
  "nbformat": 4,
  "nbformat_minor": 0,
  "metadata": {
    "colab": {
      "provenance": []
    },
    "kernelspec": {
      "name": "python3",
      "display_name": "Python 3"
    },
    "language_info": {
      "name": "python"
    }
  },
  "cells": [
    {
      "cell_type": "code",
      "source": [
        "# Binary Relevance(BR) Approach\n",
        "# Skips the labels with only one instance as binary classifiers\n",
        "# require at least two classes to learn from which is equivalent\n",
        "# to skipping labels not having any instances in the training dataset"
      ],
      "metadata": {
        "id": "RzcADUqJc0F8"
      },
      "execution_count": null,
      "outputs": []
    },
    {
      "cell_type": "code",
      "execution_count": 3,
      "metadata": {
        "id": "Ttksc7wtQeLu"
      },
      "outputs": [],
      "source": [
        "import pandas as pd\n",
        "from sklearn.feature_extraction import DictVectorizer\n",
        "from sklearn.metrics import accuracy_score, classification_report, hamming_loss\n",
        "from sklearn.model_selection import train_test_split\n",
        "from sklearn.multiclass import OneVsRestClassifier\n",
        "from sklearn.preprocessing import MultiLabelBinarizer, StandardScaler\n",
        "from sklearn.svm import SVC\n",
        "from sklearn.metrics import confusion_matrix\n",
        "import numpy as np\n",
        "from google.colab import files"
      ]
    },
    {
      "cell_type": "code",
      "source": [
        "f = files.upload()"
      ],
      "metadata": {
        "id": "E83hpm80QqnJ",
        "colab": {
          "base_uri": "https://localhost:8080/",
          "height": 73
        },
        "outputId": "a7a79c4c-cee0-48a4-beb7-ac1ff9c1b52a"
      },
      "execution_count": 4,
      "outputs": [
        {
          "output_type": "display_data",
          "data": {
            "text/plain": [
              "<IPython.core.display.HTML object>"
            ],
            "text/html": [
              "\n",
              "     <input type=\"file\" id=\"files-fb09454e-8a5a-42e3-84f7-b2e6a3ca92f8\" name=\"files[]\" multiple disabled\n",
              "        style=\"border:none\" />\n",
              "     <output id=\"result-fb09454e-8a5a-42e3-84f7-b2e6a3ca92f8\">\n",
              "      Upload widget is only available when the cell has been executed in the\n",
              "      current browser session. Please rerun this cell to enable.\n",
              "      </output>\n",
              "      <script>// Copyright 2017 Google LLC\n",
              "//\n",
              "// Licensed under the Apache License, Version 2.0 (the \"License\");\n",
              "// you may not use this file except in compliance with the License.\n",
              "// You may obtain a copy of the License at\n",
              "//\n",
              "//      http://www.apache.org/licenses/LICENSE-2.0\n",
              "//\n",
              "// Unless required by applicable law or agreed to in writing, software\n",
              "// distributed under the License is distributed on an \"AS IS\" BASIS,\n",
              "// WITHOUT WARRANTIES OR CONDITIONS OF ANY KIND, either express or implied.\n",
              "// See the License for the specific language governing permissions and\n",
              "// limitations under the License.\n",
              "\n",
              "/**\n",
              " * @fileoverview Helpers for google.colab Python module.\n",
              " */\n",
              "(function(scope) {\n",
              "function span(text, styleAttributes = {}) {\n",
              "  const element = document.createElement('span');\n",
              "  element.textContent = text;\n",
              "  for (const key of Object.keys(styleAttributes)) {\n",
              "    element.style[key] = styleAttributes[key];\n",
              "  }\n",
              "  return element;\n",
              "}\n",
              "\n",
              "// Max number of bytes which will be uploaded at a time.\n",
              "const MAX_PAYLOAD_SIZE = 100 * 1024;\n",
              "\n",
              "function _uploadFiles(inputId, outputId) {\n",
              "  const steps = uploadFilesStep(inputId, outputId);\n",
              "  const outputElement = document.getElementById(outputId);\n",
              "  // Cache steps on the outputElement to make it available for the next call\n",
              "  // to uploadFilesContinue from Python.\n",
              "  outputElement.steps = steps;\n",
              "\n",
              "  return _uploadFilesContinue(outputId);\n",
              "}\n",
              "\n",
              "// This is roughly an async generator (not supported in the browser yet),\n",
              "// where there are multiple asynchronous steps and the Python side is going\n",
              "// to poll for completion of each step.\n",
              "// This uses a Promise to block the python side on completion of each step,\n",
              "// then passes the result of the previous step as the input to the next step.\n",
              "function _uploadFilesContinue(outputId) {\n",
              "  const outputElement = document.getElementById(outputId);\n",
              "  const steps = outputElement.steps;\n",
              "\n",
              "  const next = steps.next(outputElement.lastPromiseValue);\n",
              "  return Promise.resolve(next.value.promise).then((value) => {\n",
              "    // Cache the last promise value to make it available to the next\n",
              "    // step of the generator.\n",
              "    outputElement.lastPromiseValue = value;\n",
              "    return next.value.response;\n",
              "  });\n",
              "}\n",
              "\n",
              "/**\n",
              " * Generator function which is called between each async step of the upload\n",
              " * process.\n",
              " * @param {string} inputId Element ID of the input file picker element.\n",
              " * @param {string} outputId Element ID of the output display.\n",
              " * @return {!Iterable<!Object>} Iterable of next steps.\n",
              " */\n",
              "function* uploadFilesStep(inputId, outputId) {\n",
              "  const inputElement = document.getElementById(inputId);\n",
              "  inputElement.disabled = false;\n",
              "\n",
              "  const outputElement = document.getElementById(outputId);\n",
              "  outputElement.innerHTML = '';\n",
              "\n",
              "  const pickedPromise = new Promise((resolve) => {\n",
              "    inputElement.addEventListener('change', (e) => {\n",
              "      resolve(e.target.files);\n",
              "    });\n",
              "  });\n",
              "\n",
              "  const cancel = document.createElement('button');\n",
              "  inputElement.parentElement.appendChild(cancel);\n",
              "  cancel.textContent = 'Cancel upload';\n",
              "  const cancelPromise = new Promise((resolve) => {\n",
              "    cancel.onclick = () => {\n",
              "      resolve(null);\n",
              "    };\n",
              "  });\n",
              "\n",
              "  // Wait for the user to pick the files.\n",
              "  const files = yield {\n",
              "    promise: Promise.race([pickedPromise, cancelPromise]),\n",
              "    response: {\n",
              "      action: 'starting',\n",
              "    }\n",
              "  };\n",
              "\n",
              "  cancel.remove();\n",
              "\n",
              "  // Disable the input element since further picks are not allowed.\n",
              "  inputElement.disabled = true;\n",
              "\n",
              "  if (!files) {\n",
              "    return {\n",
              "      response: {\n",
              "        action: 'complete',\n",
              "      }\n",
              "    };\n",
              "  }\n",
              "\n",
              "  for (const file of files) {\n",
              "    const li = document.createElement('li');\n",
              "    li.append(span(file.name, {fontWeight: 'bold'}));\n",
              "    li.append(span(\n",
              "        `(${file.type || 'n/a'}) - ${file.size} bytes, ` +\n",
              "        `last modified: ${\n",
              "            file.lastModifiedDate ? file.lastModifiedDate.toLocaleDateString() :\n",
              "                                    'n/a'} - `));\n",
              "    const percent = span('0% done');\n",
              "    li.appendChild(percent);\n",
              "\n",
              "    outputElement.appendChild(li);\n",
              "\n",
              "    const fileDataPromise = new Promise((resolve) => {\n",
              "      const reader = new FileReader();\n",
              "      reader.onload = (e) => {\n",
              "        resolve(e.target.result);\n",
              "      };\n",
              "      reader.readAsArrayBuffer(file);\n",
              "    });\n",
              "    // Wait for the data to be ready.\n",
              "    let fileData = yield {\n",
              "      promise: fileDataPromise,\n",
              "      response: {\n",
              "        action: 'continue',\n",
              "      }\n",
              "    };\n",
              "\n",
              "    // Use a chunked sending to avoid message size limits. See b/62115660.\n",
              "    let position = 0;\n",
              "    do {\n",
              "      const length = Math.min(fileData.byteLength - position, MAX_PAYLOAD_SIZE);\n",
              "      const chunk = new Uint8Array(fileData, position, length);\n",
              "      position += length;\n",
              "\n",
              "      const base64 = btoa(String.fromCharCode.apply(null, chunk));\n",
              "      yield {\n",
              "        response: {\n",
              "          action: 'append',\n",
              "          file: file.name,\n",
              "          data: base64,\n",
              "        },\n",
              "      };\n",
              "\n",
              "      let percentDone = fileData.byteLength === 0 ?\n",
              "          100 :\n",
              "          Math.round((position / fileData.byteLength) * 100);\n",
              "      percent.textContent = `${percentDone}% done`;\n",
              "\n",
              "    } while (position < fileData.byteLength);\n",
              "  }\n",
              "\n",
              "  // All done.\n",
              "  yield {\n",
              "    response: {\n",
              "      action: 'complete',\n",
              "    }\n",
              "  };\n",
              "}\n",
              "\n",
              "scope.google = scope.google || {};\n",
              "scope.google.colab = scope.google.colab || {};\n",
              "scope.google.colab._files = {\n",
              "  _uploadFiles,\n",
              "  _uploadFilesContinue,\n",
              "};\n",
              "})(self);\n",
              "</script> "
            ]
          },
          "metadata": {}
        },
        {
          "output_type": "stream",
          "name": "stdout",
          "text": [
            "Saving all_data.csv to all_data.csv\n"
          ]
        }
      ]
    },
    {
      "cell_type": "code",
      "source": [
        "# data read and extract feature matrix and target variable\n",
        "data = pd.read_csv(\"all_data.csv\")\n",
        "\n",
        "x = data[\"sequence\"]\n",
        "y = data[\"goa\"].apply(\n",
        "    lambda k: [item for item in k.strip(\"[]\").replace(\"'\", \"\").split(', ')\n",
        "               if item != '']).values\n",
        "seq_list = x.to_list()\n",
        "\n",
        "# Encoding sequences\n",
        "def compute_kmer_frequencies(sequence, k) -> dict:\n",
        "    kmer_counts = {}\n",
        "    for i in range(len(sequence) - k + 1):\n",
        "        kmer = sequence[i:i + k]\n",
        "        kmer_counts[kmer] = kmer_counts.get(kmer, 0) + 1\n",
        "\n",
        "    total_kmers = sum(kmer_counts.values())\n",
        "    kmer_frequencies = {kmer: count / total_kmers for kmer, count in\n",
        "                        kmer_counts.items()}\n",
        "    return kmer_frequencies\n",
        "\n",
        "kmer_freq = [compute_kmer_frequencies(seq, 1) for seq in seq_list]\n",
        "\n",
        "# Transforming the k-mer Frequencies into a Feature Matrix:\n",
        "vector = DictVectorizer(sparse=False)\n",
        "X_vectorized = vector.fit_transform(kmer_freq)\n",
        "\n",
        "\n",
        "#---------------#\n",
        "# label info\n",
        "label_list = []  # all labels\n",
        "label_count = 0  # number of labels\n",
        "label_dict = {}  # no of instances per label\n",
        "for lst in y:\n",
        "    for label in lst:\n",
        "        if label not in label_list:\n",
        "            label_list.append(label)\n",
        "            label_dict[label] = 0\n",
        "            label_count += 1\n",
        "for lst in y:\n",
        "    for label in lst:\n",
        "        label_dict[label] += 1\n",
        "\n",
        "sorted_labels_by_instance_numbers = sorted(label_dict.items(), key=lambda k: k[1])\n",
        "# print(sorted_labels_by_instance_numbers)\n",
        "\n",
        "label_list_with_less_than_3_instances =[]\n",
        "for key in label_dict:\n",
        "    if label_dict[key] < 3:\n",
        "        label_list_with_less_than_3_instances.append(key)\n",
        "\n",
        "print(len(label_list_with_less_than_3_instances)) # 7777 - sp.db"
      ],
      "metadata": {
        "id": "Xqg8fU07Qzu6",
        "colab": {
          "base_uri": "https://localhost:8080/"
        },
        "outputId": "0bbe2f9e-6472-4030-c991-3fa25f1610ee"
      },
      "execution_count": 5,
      "outputs": [
        {
          "output_type": "stream",
          "name": "stdout",
          "text": [
            "734\n"
          ]
        }
      ]
    },
    {
      "cell_type": "code",
      "source": [
        "# Splitting the Dataset\n",
        "X_train, X_test, y_train, y_test = train_test_split(X_vectorized, y,\n",
        "                                                    test_size=0.2,\n",
        "                                                    random_state=1)\n",
        "\n",
        "\n",
        "# Transforming target variable to a multilabel format\n",
        "mlb = MultiLabelBinarizer(classes=label_list)\n",
        "y_train = mlb.fit_transform(y_train)\n",
        "y_test = mlb.transform(y_test)\n",
        "\n",
        "# Standardization of feature values\n",
        "scaler = StandardScaler()\n",
        "X_train = scaler.fit_transform(X_train)\n",
        "X_test = scaler.transform(X_test)"
      ],
      "metadata": {
        "id": "td0DkiYiQ4iG"
      },
      "execution_count": 6,
      "outputs": []
    },
    {
      "cell_type": "code",
      "source": [
        "# labels not present in the training data set\n",
        "y_train_labels = mlb.inverse_transform(y_train)\n",
        "y_test_labels = mlb.inverse_transform(y_test)\n",
        "\n",
        "# Convert to sets for easier comparison\n",
        "train_label_set = {label for labels in y_train_labels for label in labels}\n",
        "test_label_set = {label for labels in y_test_labels for label in labels}\n",
        "\n",
        "# Find labels present in test set but not in training set\n",
        "missing_labels = test_label_set - train_label_set\n",
        "\n",
        "print(len(missing_labels))\n",
        "print(\"Labels present in test but missing in train:\", missing_labels)"
      ],
      "metadata": {
        "colab": {
          "base_uri": "https://localhost:8080/"
        },
        "id": "48LVFFtaeeHb",
        "outputId": "b9eaba41-47d7-482d-bde7-fa1be782adff"
      },
      "execution_count": 10,
      "outputs": [
        {
          "output_type": "stream",
          "name": "stdout",
          "text": [
            "11\n",
            "Labels present in test but missing in train: {'GO:0099040', 'GO:2001225', 'GO:0047484', 'GO:0099038', 'GO:1905039', 'GO:0098908', 'GO:0090554', 'GO:0140115', 'GO:0046865', 'GO:0046943', 'GO:0140328'}\n"
          ]
        }
      ]
    },
    {
      "cell_type": "code",
      "source": [
        "# Training Individual Classifiers for Each Label\n",
        "y_pred = np.zeros_like(y_test) # to maintain consistent shaoe as y_test\n",
        "count = 0 # to check if the number label of labels skipped is same as the number of labels not in the training dataset\n",
        "for i in range(y_train.shape[1]):\n",
        "    label = y_train[:, i]\n",
        "\n",
        "    if len(np.unique(label)) > 1:\n",
        "        clf = SVC(kernel='rbf', gamma=0.1)\n",
        "        clf.fit(X_train, label)\n",
        "        y_pred[:, i] = clf.predict(X_test)\n",
        "    else:\n",
        "        print(f\"Skipping label index {i} due to insufficient class variation.\")\n",
        "        count += 1\n",
        "print(count)"
      ],
      "metadata": {
        "id": "RmIJNj61Q826",
        "colab": {
          "base_uri": "https://localhost:8080/"
        },
        "outputId": "b33c1008-c0f3-4c2f-991e-548ef1196afe"
      },
      "execution_count": 11,
      "outputs": [
        {
          "output_type": "stream",
          "name": "stdout",
          "text": [
            "Skipping label index 5281 due to insufficient class variation.\n",
            "Skipping label index 5700 due to insufficient class variation.\n",
            "Skipping label index 5701 due to insufficient class variation.\n",
            "Skipping label index 5702 due to insufficient class variation.\n",
            "Skipping label index 5703 due to insufficient class variation.\n",
            "Skipping label index 5704 due to insufficient class variation.\n",
            "Skipping label index 5705 due to insufficient class variation.\n",
            "Skipping label index 5706 due to insufficient class variation.\n",
            "Skipping label index 5707 due to insufficient class variation.\n",
            "Skipping label index 5708 due to insufficient class variation.\n",
            "Skipping label index 5709 due to insufficient class variation.\n",
            "11\n"
          ]
        }
      ]
    },
    {
      "cell_type": "code",
      "source": [
        "# accuracy\n",
        "accuracy = accuracy_score(y_test, y_pred)\n",
        "\n",
        "print(f'Accuracy: {accuracy}')\n",
        "\n",
        "# gamma = 0.5 -> 0.91"
      ],
      "metadata": {
        "id": "6uuF3aXQREnT",
        "colab": {
          "base_uri": "https://localhost:8080/"
        },
        "outputId": "74a44b87-2f45-4c9f-8824-c914872dfb21"
      },
      "execution_count": 9,
      "outputs": [
        {
          "output_type": "stream",
          "name": "stdout",
          "text": [
            "Accuracy: 0.6005291005291006\n"
          ]
        }
      ]
    }
  ]
}